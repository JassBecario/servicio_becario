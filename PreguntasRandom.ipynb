{
  "nbformat": 4,
  "nbformat_minor": 0,
  "metadata": {
    "colab": {
      "name": "Untitled2.ipynb",
      "version": "0.3.2",
      "provenance": [],
      "include_colab_link": true
    },
    "kernelspec": {
      "name": "python3",
      "display_name": "Python 3"
    }
  },
  "cells": [
    {
      "cell_type": "markdown",
      "metadata": {
        "id": "view-in-github",
        "colab_type": "text"
      },
      "source": [
        "[View in Colaboratory](https://colab.research.google.com/github/Mozta/servicio_becario/blob/feature-JassielCortez/PreguntasRandom.ipynb)"
      ]
    },
    {
      "metadata": {
        "id": "q3k7hg6Fo92g",
        "colab_type": "code",
        "colab": {
          "base_uri": "https://localhost:8080/",
          "height": 272
        },
        "outputId": "50ca996c-a02e-45b1-b61e-da3a92f83495"
      },
      "cell_type": "code",
      "source": [
        "import time\n",
        "nombre=input(\"Dime tu nombre\")\n",
        "\n",
        "print(\"Bienvenido \"+nombre,\"probaré un par de cosas\")\n",
        "time.sleep(1)\n",
        "print(\"Cuenta hasta 3 conmigo\")\n",
        "time.sleep(1)\n",
        "print(\"Aumentarán los segundos\")\n",
        "time.sleep(1)\n",
        "print(\"Para que los mensajes\")\n",
        "time.sleep(2)\n",
        "print(\"Aparezcan, o talvez no\")\n",
        "time.sleep(0.5)\n",
        "\n",
        "x=input(\"¿Fue aburrido verdad?\")\n",
        "print(\"Pues solo estaba probando unas cosas\")\n",
        "time.sleep(1.5)\n",
        "\n",
        "c=input(\"Qué tipo de comida te gusta?\")\n",
        "print(\"Que peculiar, \"+c,\" jaja\")\n",
        "time.sleep(1.5)\n",
        "\n",
        "d=input(\"Probemos otra cosa, ¿Qué deporte te gusta?\")\n",
        "print(\"Eso suena un poco interesante, aunque no tanto, a mí no me gusta el \"+d)\n",
        "time.sleep(1.5)\n",
        "\n",
        "p=input(\"Para finalizar, ¿Cuál es tu programa/serie favorita?\")\n",
        "print(\"¿De qué trata \"+p,\"?\")\n",
        "time.sleep(2)\n",
        "\n",
        "print(\"Bueno, fue agradable conocer a alguien que le gusta el \"+d,\",\"+c,\"y \"+p,\", hasta la próxima.\")\n",
        "\n",
        "\n",
        "\n",
        "\n",
        "\n",
        "  \n"
      ],
      "execution_count": 15,
      "outputs": [
        {
          "output_type": "stream",
          "text": [
            "Dime tu nombrexada\n",
            "Bienvenido xada probaré un par de cosas\n",
            "Cuenta hasta 3 conmigo\n",
            "Aumentarán los segundos\n",
            "Para que los mensajes\n",
            "Aparezcan, o talvez no\n",
            "¿Fue aburrido verdad?asd\n",
            "Pues solo estaba probando unas cosas\n",
            "Qué tipo de comida te gusta?nachos\n",
            "Que peculiar, nachos  jaja\n",
            "Probemos otra cosa, ¿Qué deporte te gusta?asdas\n",
            "Eso suena un poco interesante, aunque no tanto, a mí no me gusta el asdas\n",
            "Para finalizar, ¿Cuál es tu programa/serie favorita?asd\n",
            "¿De qué trata asd ?\n",
            "Bueno, fue agradable conocer a alguien que le gusta el asdas ,nachos y asd , hasta la próxima.\n"
          ],
          "name": "stdout"
        }
      ]
    }
  ]
}